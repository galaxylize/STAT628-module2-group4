{
 "cells": [
  {
   "cell_type": "markdown",
   "metadata": {},
   "source": [
    "# Introduction\n",
    "1. Provide useful, analytical insights to business owners on Yelp and, based on these insights, propose data-driven, actionable decisions to said owners in order to improve their ratings in Yelp.\n",
    "2. Propose a prediction model to predict the ratings of reviews based on the text and related attributes."
   ]
  },
  {
   "cell_type": "markdown",
   "metadata": {},
   "source": [
    "# Part 1: Advice for Traditional-American Restaurants"
   ]
  },
  {
   "cell_type": "markdown",
   "metadata": {},
   "source": [
    "## Data Selection and Cleaning\n",
    "1. Raw data\n",
    "\n",
    "There are 154,606 businesses which belong to 1,295 catogories and 5,364,626 reviews(3.43 GB). \n",
    "\n",
    "2. Data cleaning on \"Review\" dataset\n",
    "\n",
    "(1) Stopwords use nltk.stopwords.words except:\n",
    "\n",
    "- Third person pronoun: he, she, it, they, their;\n",
    "\n",
    "- Adverb of degree: few, most, more...;\n",
    "\n",
    "- Negative: don't, didn't, doesn't, aren't...\n",
    "\n",
    "(2) Pattern matching: words, abbreviation, [a-zA-Z]-[a-zA-Z],...,?,!;\n",
    "\n",
    "(3) Substitute: he's to he, n'/n't to not, 'd to would;\n",
    "\n",
    "(4) Delete: noun's, number+th/st/nd/rd;\n",
    "\n",
    "(5) Change to lower case\n",
    "\n",
    "(6) Tokenize using regular expression\n",
    "\n",
    "(7) Add_neg to the words between not/never and the first punctuation;\n",
    "\n",
    "(8) Use porter stemmer to do stem extracting, such as amazing to amaz;\n",
    "\n",
    "(9) Use wordnet lemmatizer to lemmstize the verb to a normal form, such as loving to love.\n",
    "\n",
    "3. Data cleaning on \"Businesses\" dataset\n",
    "\n",
    "(1) Seperate the catogories of businesses, find the businesses' id in each catogories;\n",
    "\n",
    "(2) Change different expressions of attributes into same ones.\n",
    "\n",
    "4. Data selection\n",
    "\n",
    "Among all the catogories, restaurants is the most with 47,506 businesses. There are a total of restaurants in 85 countries, of which the largest number of businesses is the traditional American restaurants. Using \"grep\" command in bash we get the reviews we want.\n",
    "\n",
    "We choose traditional American restaurants as an example to give some specific suggestions.Finally, we get 5,693 businesses and 845,941 reviews(503 MB)."
   ]
  },
  {
   "cell_type": "markdown",
   "metadata": {},
   "source": [
    "## Make a Dictionary\n",
    "\n",
    "1. Focus on some top words based on frequency, we get the most frequent 461 words among 245,344 words.\n",
    "\n",
    "2. Count every word's frequency in every star (even if it appears many times in one review, we just focus on if it appears).\n",
    "\n",
    "3. Use \"Information gain\" of each word to rank them."
   ]
  },
  {
   "cell_type": "markdown",
   "metadata": {},
   "source": [
    "### Information Gain\n",
    "\n",
    "Information Gain = H(Y) - H(Y|X), where Y denotes class (star level), X is feature (word).\n",
    "\n",
    "For example, the proportion of each star in whole dataset is $P_i$, i=1, 2, 3, 4, 5.\n",
    "\n",
    "$H(Y)=-\\sum_{i=1}^5 P_i log_2 P_i$\n",
    "\n",
    "if we specify x as \"good\",\n",
    "\n",
    "$H(Y|X)=\\sum_{i=1}^2 P(X=x_i)(-\\sum_{j=1}^5 P_{ij} log_2 P_{ij})$, where $x_i$=0, 1 (1 denotes review contains \"good\"), $P_{ij}$ is proportion of star j when X=$x_i$."
   ]
  },
  {
   "cell_type": "markdown",
   "metadata": {},
   "source": [
    "## Attributes of Businesses"
   ]
  },
  {
   "cell_type": "markdown",
   "metadata": {},
   "source": [
    "Attributes are from the \"businesses\" dataset that reflect various characteristics of the restaurants. There are 39 attributes in the raw data, while some of the attributes contains different aspects, such as there are \"garage\", \"street\", \"validated\", \"lot\" and \"valet\" in \"Business parking\" attributes. We change all the sub attributes into single ones and get 66 different attributes all in all. However, for \"accept insurance\", \"byob\" and \"restaurants counter service\", there is only one factor, therefore it's meaningless to analyze it. Let's see which are the most important ones to improve the star rate in the 63 attributes we finally get."
   ]
  },
  {
   "cell_type": "markdown",
   "metadata": {},
   "source": [
    "### Tree-method\n"
   ]
  },
  {
   "cell_type": "markdown",
   "metadata": {},
   "source": [
    "### Significance \n",
    " Using Anova"
   ]
  },
  {
   "cell_type": "markdown",
   "metadata": {},
   "source": [
    "# Part 2: Prediction model of the Ratings"
   ]
  },
  {
   "cell_type": "markdown",
   "metadata": {},
   "source": [
    "## Data"
   ]
  },
  {
   "cell_type": "markdown",
   "metadata": {},
   "source": [
    "## Model"
   ]
  },
  {
   "cell_type": "markdown",
   "metadata": {},
   "source": [
    "## Accuracy"
   ]
  },
  {
   "cell_type": "markdown",
   "metadata": {},
   "source": [
    "# Conclusion\n",
    "\n",
    "1. \n",
    "\n",
    "2.\n",
    "\n",
    "3.\n",
    "\n"
   ]
  },
  {
   "cell_type": "markdown",
   "metadata": {},
   "source": [
    "#### Members' Contribution:\n",
    "\n",
    "- Lize Du: Clean \"review\" data, make dictionary and put forward information gain, make word clouds and maps for first presentation, make prediction model of the ratings, write the jupyter notebook, \n",
    "- Linquan Ma: Extract specific reviews from all reviews, make plots for first presentation, use tree-methods to find important attributes, write the jupyter notebook, \n",
    "- Wenjia Xie: Clean \"business\" data, select the data we need, calculate the star for each traditional American restaurants, deal with the attributes, make slides for first presentation, write the jupyter notebook, \n",
    "\n",
    "All work is finished by all members' comments and discussions, the work mentioned above is mainly finished by the specific people."
   ]
  },
  {
   "cell_type": "code",
   "execution_count": null,
   "metadata": {},
   "outputs": [],
   "source": []
  }
 ],
 "metadata": {
  "kernelspec": {
   "display_name": "R",
   "language": "R",
   "name": "ir"
  },
  "language_info": {
   "codemirror_mode": "r",
   "file_extension": ".r",
   "mimetype": "text/x-r-source",
   "name": "R",
   "pygments_lexer": "r",
   "version": "3.5.1"
  }
 },
 "nbformat": 4,
 "nbformat_minor": 2
}
