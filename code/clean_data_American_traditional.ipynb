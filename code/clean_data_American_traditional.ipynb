{
 "cells": [
  {
   "cell_type": "code",
   "execution_count": 1,
   "metadata": {},
   "outputs": [],
   "source": [
    "import os\n",
    "import json\n",
    "import pandas as pd"
   ]
  },
  {
   "cell_type": "code",
   "execution_count": 2,
   "metadata": {},
   "outputs": [
    {
     "data": {
      "text/plain": [
       "'/home/linquan/STAT628-module2-group4/code'"
      ]
     },
     "execution_count": 2,
     "metadata": {},
     "output_type": "execute_result"
    }
   ],
   "source": [
    "os.getcwd()"
   ]
  },
  {
   "cell_type": "code",
   "execution_count": 3,
   "metadata": {},
   "outputs": [],
   "source": [
    "os.chdir('../data')"
   ]
  },
  {
   "cell_type": "code",
   "execution_count": 4,
   "metadata": {},
   "outputs": [],
   "source": [
    "review = [] \n",
    "for line in open('American_traditional.json', 'r'): \n",
    "    review.append(json.loads(line)) \n"
   ]
  },
  {
   "cell_type": "code",
   "execution_count": 6,
   "metadata": {},
   "outputs": [
    {
     "data": {
      "text/plain": [
       "{'business_id': 71871,\n",
       " 'stars': 5.0,\n",
       " 'text': \"Went in for a lunch. Steak sandwich was delicious, and the Caesar salad had an absolutely delicious dressing, with a perfect amount of dressing, and distributed perfectly across each leaf. I know I'm going on about the salad ... But it was perfect.\\n\\nDrink prices were pretty good.\\n\\nThe Server, Dawn, was friendly and accommodating. Very happy with her.\\n\\nIn summation, a great pub experience. Would go again!\",\n",
       " 'date': '2018-01-09 20:56:38'}"
      ]
     },
     "execution_count": 6,
     "metadata": {},
     "output_type": "execute_result"
    }
   ],
   "source": [
    "review[0]"
   ]
  },
  {
   "cell_type": "code",
   "execution_count": 7,
   "metadata": {},
   "outputs": [
    {
     "data": {
      "text/plain": [
       "[{'business_id': 130178,\n",
       "  'stars': 5.0,\n",
       "  'text': 'Hands down best Bloody Mary ever. So many things in my BM, veggies  mmm bacon.  \"Nailed it\" it\\'s an appetizer. I also had the burger with fries. Who knew fries could be so good. The presentation doesn\\'t disappoint ether. Very nice. Great seating outside although we sat inside. Would love to see this restaurant near my hometown. Seriously. Get the BM. You rock Guy!',\n",
       "  'date': '2016-01-30 01:08:03'},\n",
       " {'business_id': 103432,\n",
       "  'stars': 4.0,\n",
       "  'text': 'Quiet bar and grill great waitress and the margarita pizza was very good. Small sign out front and almost missed the place.',\n",
       "  'date': '2018-08-23 21:19:30'},\n",
       " {'business_id': 88804,\n",
       "  'stars': 3.0,\n",
       "  'text': \"Overall the food is really good. We had bruschetta and it seemed to have just a tad bit too much olive oil on it. Had it had anymore on it we would not have eaten it. My husband had chicken Parmesan and I ordered a salad with grilled salmon. He said his tasted good and my salon was cooked perfect. I also enjoyed whatever the dressing was, I just wish it would have been on the side. For whatever reason it was poured on and also came with a cup of it on the side. We agreed that the prices seemed a bit high for the experience. It has a similar feel to Bravo but service just isn't at that level yet (from our experience). Our sever did not know anything about the menu or what is fried in their fryers which should be expected at $18+ a plate. (We asked because of food allergies) She did however make sure to note allergies on our order which we appreciated! The music also did not match the setting. I really wanted to relax but the music was super up beat and almost had me rushing to leave. We will try again in a few months and I'll update my review then.\",\n",
       "  'date': '2016-10-26 15:34:31'},\n",
       " {'business_id': 60466,\n",
       "  'stars': 5.0,\n",
       "  'text': \"Hey....i just want to say, everytime I eat here, since the late 90's.  Nothing but good wings, good beer, and good times.  If the waiting staff is terrible, slow, non attentive, so be it.  I eventually get my food and beer, im busy either catching up with friends or pull out the cell phone and chat with friends.  Weird but there it is.  Have Fun here..........Cheers!\",\n",
       "  'date': '2018-08-04 20:36:55'},\n",
       " {'business_id': 105477,\n",
       "  'stars': 5.0,\n",
       "  'text': \"Not sure why some posted negative reviews of this place because it is on point. My girlfriend and I had dinner there last night, with reservations set for 6 p.m., were seated by 6:05. Our server William was awesome, was fast, attentative and really was one of the best servers we've encountered and we dine out a lot. We both ordered all you can eat crab legs and they were fresh, hot and delicious. I do feel the sticker price was high but we must have had 5 buckets each so it equates to 10 bucks a pound. \\n\\nThe only negative I did feel could be addressed is the tables are made of some type of epoxy resin so being outside, May be melting or something because there was a sticky residue on the table top. I just played a napkin over it so it was acceptable. \\n\\nMy girlfriend and I will definitely be returning to pickle bills, we had a fantastic evening. Last thing to note, the service was great even though the place was packed!\",\n",
       "  'date': '2015-08-30 13:17:23'},\n",
       " {'business_id': 51632,\n",
       "  'stars': 4.0,\n",
       "  'text': \"After being a HUGE fan of the Mission I decided to try this place out seeing that it's owned by the same owners even though I was very skeptical that it could possibly be as great. To my surprise it lived up to what others had told me. The ambiance was amazing. Very much like the mission. Candles light up the entire place. The outside patio is quite large and there is a lot of seating available. The staff was great and very helpful with making suggestions on the menu. My favorite items on the menu are the scallops and the Apple caramel upside down cake. They were cooked to perfection and melt in your mouth. They have a great wine list and its a perfect setting to enjoy a few glasses of wine:) This is a great date night spot that I recommend it now to all my friends.\",\n",
       "  'date': '2013-10-24 03:19:44'},\n",
       " {'business_id': 33270,\n",
       "  'stars': 4.0,\n",
       "  'text': \"I love Pizza, but I try to stay away for dietary reasons. I went here last week with my daughter and mom, and was pleasantly surprised. Thin crust New York style pizza at a good price. The menu is kind of simple, but that's the way these places are nowadays. Friendly staff and clean simple surroundings.\",\n",
       "  'date': '2013-12-07 01:41:25'}]"
      ]
     },
     "execution_count": 7,
     "metadata": {},
     "output_type": "execute_result"
    }
   ],
   "source": [
    "review[13:20]"
   ]
  },
  {
   "cell_type": "code",
   "execution_count": 8,
   "metadata": {},
   "outputs": [],
   "source": [
    "df_review = pd.DataFrame.from_dict(review)"
   ]
  },
  {
   "cell_type": "code",
   "execution_count": 9,
   "metadata": {},
   "outputs": [],
   "source": [
    "df_review.to_csv(\"American_traditional.csv\", index=False)"
   ]
  },
  {
   "cell_type": "code",
   "execution_count": null,
   "metadata": {},
   "outputs": [],
   "source": []
  }
 ],
 "metadata": {
  "kernelspec": {
   "display_name": "Python 3",
   "language": "python",
   "name": "python3"
  },
  "language_info": {
   "codemirror_mode": {
    "name": "ipython",
    "version": 3
   },
   "file_extension": ".py",
   "mimetype": "text/x-python",
   "name": "python",
   "nbconvert_exporter": "python",
   "pygments_lexer": "ipython3",
   "version": "3.6.5"
  }
 },
 "nbformat": 4,
 "nbformat_minor": 2
}
